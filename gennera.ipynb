{
 "cells": [
  {
   "cell_type": "code",
   "execution_count": 1,
   "metadata": {},
   "outputs": [],
   "source": [
    "import pandas as pd\n",
    "import numpy as np\n",
    "import torch\n",
    "from transformers import pipeline"
   ]
  },
  {
   "cell_type": "code",
   "execution_count": 2,
   "metadata": {},
   "outputs": [],
   "source": [
    "df = pd.read_pickle(\"reviews.pkl\")"
   ]
  },
  {
   "cell_type": "code",
   "execution_count": 3,
   "metadata": {},
   "outputs": [],
   "source": [
    "def preprocessing(df):\n",
    "    df.drop(\n",
    "        columns=[\n",
    "            \"images\",\n",
    "            \"language\",\n",
    "            \"url\",\n",
    "            \"userId\",\n",
    "            \"index\",\n",
    "            \"restaurantId\",\n",
    "            \"reviewId\",\n",
    "        ],\n",
    "        inplace=True,\n",
    "    )\n",
    "    df[\"date\"] = df[\"date\"].apply(lambda x: x.split()[::2])\n",
    "    mes = {\n",
    "        \"enero\": \"01\",\n",
    "        \"febrero\": \"02\",\n",
    "        \"marzo\": \"03\",\n",
    "        \"abril\": \"04\",\n",
    "        \"mayo\": \"05\",\n",
    "        \"junio\": \"06\",\n",
    "        \"julio\": \"07\",\n",
    "        \"agosto\": \"08\",\n",
    "        \"septiembre\": \"09\",\n",
    "        \"octubre\": \"10\",\n",
    "        \"noviembre\": \"11\",\n",
    "        \"diciembre\": \"12\",\n",
    "    }\n",
    "    df[\"mes\"] = df[\"date\"].apply(lambda x: mes[x[1]])\n",
    "    df[\"date\"] = df[[\"date\", \"mes\"]].apply(\n",
    "        lambda x: str(x[0][0]) + \"-\" + str(x[1]) + \"-\" + str(x[0][2]), axis=1\n",
    "    )\n",
    "    df.drop(columns=[\"mes\"], inplace=True)\n",
    "    df[\"date\"] = pd.to_datetime(df[\"date\"])\n",
    "    return df"
   ]
  },
  {
   "cell_type": "code",
   "execution_count": 4,
   "metadata": {},
   "outputs": [
    {
     "name": "stderr",
     "output_type": "stream",
     "text": [
      "C:\\Users\\jilai\\AppData\\Local\\Temp\\ipykernel_14612\\3951252518.py:34: UserWarning: Parsing dates in %d-%m-%Y format when dayfirst=False (the default) was specified. Pass `dayfirst=True` or specify a format to silence this warning.\n",
      "  df[\"date\"] = pd.to_datetime(df[\"date\"])\n"
     ]
    }
   ],
   "source": [
    "df = preprocessing(df)"
   ]
  },
  {
   "cell_type": "code",
   "execution_count": 5,
   "metadata": {},
   "outputs": [
    {
     "name": "stderr",
     "output_type": "stream",
     "text": [
      "c:\\Users\\jilai\\AppData\\Local\\Programs\\Python\\Python310\\lib\\site-packages\\transformers\\pipelines\\text_classification.py:104: UserWarning: `return_all_scores` is now deprecated,  if want a similar functionality use `top_k=None` instead of `return_all_scores=True` or `top_k=1` instead of `return_all_scores=False`.\n",
      "  warnings.warn(\n"
     ]
    }
   ],
   "source": [
    "from transformers import pipeline\n",
    "\n",
    "distilled_student_sentiment_classifier = pipeline(\n",
    "    model=\"lxyuan/distilbert-base-multilingual-cased-sentiments-student\", \n",
    "    return_all_scores=True\n",
    ")"
   ]
  },
  {
   "cell_type": "code",
   "execution_count": 6,
   "metadata": {},
   "outputs": [],
   "source": [
    "def get_higher_sentiment_score(sentiment_scores):\n",
    "    max = [(scores[\"score\"], scores[\"label\"]) for scores in sentiment_scores[0]]\n",
    "    max.sort(reverse=True)\n",
    "    return max[0][1]\n"
   ]
  },
  {
   "cell_type": "code",
   "execution_count": 7,
   "metadata": {},
   "outputs": [
    {
     "data": {
      "text/plain": [
       "'\\ndf2 = df.copy().iloc[:1000]\\ndf2[\"sentiment\"] = df2[\"text\"].apply(lambda x: get_higher_sentiment_score(distilled_student_sentiment_classifier(x)))\\ndf2.to_pickle(\"reviews_with_sentiment.pkl\")\\n'"
      ]
     },
     "execution_count": 7,
     "metadata": {},
     "output_type": "execute_result"
    }
   ],
   "source": [
    "\"\"\"\n",
    "df2 = df.copy().iloc[:1000]\n",
    "df2[\"sentiment\"] = df2[\"text\"].apply(lambda x: get_higher_sentiment_score(distilled_student_sentiment_classifier(x)))\n",
    "df2.to_pickle(\"reviews_with_sentiment.pkl\")\n",
    "\"\"\""
   ]
  },
  {
   "cell_type": "code",
   "execution_count": 8,
   "metadata": {},
   "outputs": [],
   "source": [
    "df2 = pd.read_pickle(\"reviews_with_sentiment.pkl\")"
   ]
  },
  {
   "cell_type": "code",
   "execution_count": 9,
   "metadata": {},
   "outputs": [],
   "source": [
    "df2[\"rating-sentiment\"] = df2[[\"rating\", \"sentiment\"]].apply(lambda x: 1 if (x[0] > 30 and x[1] == \"positive\") or (x[0] == 30 and x[1]==\"neutral\") or (x[0] < 30 and x[1]==\"negative\") else 0, axis=1)"
   ]
  },
  {
   "cell_type": "code",
   "execution_count": 10,
   "metadata": {},
   "outputs": [
    {
     "data": {
      "text/html": [
       "<div>\n",
       "<style scoped>\n",
       "    .dataframe tbody tr th:only-of-type {\n",
       "        vertical-align: middle;\n",
       "    }\n",
       "\n",
       "    .dataframe tbody tr th {\n",
       "        vertical-align: top;\n",
       "    }\n",
       "\n",
       "    .dataframe thead th {\n",
       "        text-align: right;\n",
       "    }\n",
       "</style>\n",
       "<table border=\"1\" class=\"dataframe\">\n",
       "  <thead>\n",
       "    <tr style=\"text-align: right;\">\n",
       "      <th></th>\n",
       "      <th>date</th>\n",
       "      <th>rating</th>\n",
       "      <th>text</th>\n",
       "      <th>title</th>\n",
       "      <th>sentiment</th>\n",
       "      <th>rating-sentiment</th>\n",
       "    </tr>\n",
       "  </thead>\n",
       "  <tbody>\n",
       "    <tr>\n",
       "      <th>0</th>\n",
       "      <td>2017-04-26</td>\n",
       "      <td>30</td>\n",
       "      <td>Si quieres comer abundante, bien y sin floritu...</td>\n",
       "      <td>Comida casera muy casera</td>\n",
       "      <td>positive</td>\n",
       "      <td>0</td>\n",
       "    </tr>\n",
       "    <tr>\n",
       "      <th>1</th>\n",
       "      <td>2015-08-17</td>\n",
       "      <td>40</td>\n",
       "      <td>cerveceria calsica muy cerquita de la plaza ma...</td>\n",
       "      <td>clasica cerveceria cons sabor autentico</td>\n",
       "      <td>positive</td>\n",
       "      <td>1</td>\n",
       "    </tr>\n",
       "    <tr>\n",
       "      <th>2</th>\n",
       "      <td>2018-04-27</td>\n",
       "      <td>50</td>\n",
       "      <td>Una amiga que vive en alameda de Osuna juraba ...</td>\n",
       "      <td>Pasteles increíbles</td>\n",
       "      <td>positive</td>\n",
       "      <td>1</td>\n",
       "    </tr>\n",
       "    <tr>\n",
       "      <th>3</th>\n",
       "      <td>2018-04-15</td>\n",
       "      <td>40</td>\n",
       "      <td>la bolleria genial, el cafe bueno, el personal...</td>\n",
       "      <td>una buena merienda</td>\n",
       "      <td>positive</td>\n",
       "      <td>1</td>\n",
       "    </tr>\n",
       "    <tr>\n",
       "      <th>4</th>\n",
       "      <td>2017-12-31</td>\n",
       "      <td>50</td>\n",
       "      <td>Impecable servicio y la mejor calidad y sabor ...</td>\n",
       "      <td>Excelente</td>\n",
       "      <td>positive</td>\n",
       "      <td>1</td>\n",
       "    </tr>\n",
       "  </tbody>\n",
       "</table>\n",
       "</div>"
      ],
      "text/plain": [
       "        date rating                                               text   \n",
       "0 2017-04-26     30  Si quieres comer abundante, bien y sin floritu...  \\\n",
       "1 2015-08-17     40  cerveceria calsica muy cerquita de la plaza ma...   \n",
       "2 2018-04-27     50  Una amiga que vive en alameda de Osuna juraba ...   \n",
       "3 2018-04-15     40  la bolleria genial, el cafe bueno, el personal...   \n",
       "4 2017-12-31     50  Impecable servicio y la mejor calidad y sabor ...   \n",
       "\n",
       "                                     title sentiment  rating-sentiment  \n",
       "0                 Comida casera muy casera  positive                 0  \n",
       "1  clasica cerveceria cons sabor autentico  positive                 1  \n",
       "2                      Pasteles increíbles  positive                 1  \n",
       "3                       una buena merienda  positive                 1  \n",
       "4                                Excelente  positive                 1  "
      ]
     },
     "execution_count": 10,
     "metadata": {},
     "output_type": "execute_result"
    }
   ],
   "source": [
    "df2.head()"
   ]
  },
  {
   "cell_type": "code",
   "execution_count": 11,
   "metadata": {},
   "outputs": [],
   "source": [
    "# Load the regular expression library\n",
    "import re# Remove punctuation\n",
    "df2['text_processed'] = \\\n",
    "df2['text'].map(lambda x: re.sub('[,\\.!?]', '', x))# Convert the titles to lowercase\n",
    "df2['text_processed'] = \\\n",
    "df2['text_processed'].map(lambda x: x.lower())# Print out the first rows of papers\n",
    "df2['text_processed'].head()\n",
    "\n",
    "# Remove stop words\n",
    "from nltk.corpus import stopwords\n",
    "stop_words = set(stopwords.words('spanish'))# Function to remove stop words from sentences\n",
    "def remove_stopwords(text):\n",
    "    return \" \".join([word for word in str(text).split() if word not in stop_words])# Apply the function to remove stop words\n",
    "df2['text_processed'] = df2['text_processed'].apply(lambda text: remove_stopwords(text))# Print out the first rows of papers"
   ]
  },
  {
   "cell_type": "code",
   "execution_count": 12,
   "metadata": {},
   "outputs": [
    {
     "data": {
      "text/html": [
       "<div>\n",
       "<style scoped>\n",
       "    .dataframe tbody tr th:only-of-type {\n",
       "        vertical-align: middle;\n",
       "    }\n",
       "\n",
       "    .dataframe tbody tr th {\n",
       "        vertical-align: top;\n",
       "    }\n",
       "\n",
       "    .dataframe thead th {\n",
       "        text-align: right;\n",
       "    }\n",
       "</style>\n",
       "<table border=\"1\" class=\"dataframe\">\n",
       "  <thead>\n",
       "    <tr style=\"text-align: right;\">\n",
       "      <th></th>\n",
       "      <th>date</th>\n",
       "      <th>rating</th>\n",
       "      <th>text</th>\n",
       "      <th>title</th>\n",
       "      <th>sentiment</th>\n",
       "      <th>rating-sentiment</th>\n",
       "      <th>text_processed</th>\n",
       "    </tr>\n",
       "  </thead>\n",
       "  <tbody>\n",
       "    <tr>\n",
       "      <th>0</th>\n",
       "      <td>2017-04-26</td>\n",
       "      <td>30</td>\n",
       "      <td>Si quieres comer abundante, bien y sin floritu...</td>\n",
       "      <td>Comida casera muy casera</td>\n",
       "      <td>positive</td>\n",
       "      <td>0</td>\n",
       "      <td>si quieres comer abundante bien florituras ést...</td>\n",
       "    </tr>\n",
       "    <tr>\n",
       "      <th>1</th>\n",
       "      <td>2015-08-17</td>\n",
       "      <td>40</td>\n",
       "      <td>cerveceria calsica muy cerquita de la plaza ma...</td>\n",
       "      <td>clasica cerveceria cons sabor autentico</td>\n",
       "      <td>positive</td>\n",
       "      <td>1</td>\n",
       "      <td>cerveceria calsica cerquita plaza mayor tomars...</td>\n",
       "    </tr>\n",
       "    <tr>\n",
       "      <th>2</th>\n",
       "      <td>2018-04-27</td>\n",
       "      <td>50</td>\n",
       "      <td>Una amiga que vive en alameda de Osuna juraba ...</td>\n",
       "      <td>Pasteles increíbles</td>\n",
       "      <td>positive</td>\n",
       "      <td>1</td>\n",
       "      <td>amiga vive alameda osuna juraba pasteles buení...</td>\n",
       "    </tr>\n",
       "    <tr>\n",
       "      <th>3</th>\n",
       "      <td>2018-04-15</td>\n",
       "      <td>40</td>\n",
       "      <td>la bolleria genial, el cafe bueno, el personal...</td>\n",
       "      <td>una buena merienda</td>\n",
       "      <td>positive</td>\n",
       "      <td>1</td>\n",
       "      <td>bolleria genial cafe bueno personal simpatico ...</td>\n",
       "    </tr>\n",
       "    <tr>\n",
       "      <th>4</th>\n",
       "      <td>2017-12-31</td>\n",
       "      <td>50</td>\n",
       "      <td>Impecable servicio y la mejor calidad y sabor ...</td>\n",
       "      <td>Excelente</td>\n",
       "      <td>positive</td>\n",
       "      <td>1</td>\n",
       "      <td>impecable servicio mejor calidad sabor bollerí...</td>\n",
       "    </tr>\n",
       "  </tbody>\n",
       "</table>\n",
       "</div>"
      ],
      "text/plain": [
       "        date rating                                               text   \n",
       "0 2017-04-26     30  Si quieres comer abundante, bien y sin floritu...  \\\n",
       "1 2015-08-17     40  cerveceria calsica muy cerquita de la plaza ma...   \n",
       "2 2018-04-27     50  Una amiga que vive en alameda de Osuna juraba ...   \n",
       "3 2018-04-15     40  la bolleria genial, el cafe bueno, el personal...   \n",
       "4 2017-12-31     50  Impecable servicio y la mejor calidad y sabor ...   \n",
       "\n",
       "                                     title sentiment  rating-sentiment   \n",
       "0                 Comida casera muy casera  positive                 0  \\\n",
       "1  clasica cerveceria cons sabor autentico  positive                 1   \n",
       "2                      Pasteles increíbles  positive                 1   \n",
       "3                       una buena merienda  positive                 1   \n",
       "4                                Excelente  positive                 1   \n",
       "\n",
       "                                      text_processed  \n",
       "0  si quieres comer abundante bien florituras ést...  \n",
       "1  cerveceria calsica cerquita plaza mayor tomars...  \n",
       "2  amiga vive alameda osuna juraba pasteles buení...  \n",
       "3  bolleria genial cafe bueno personal simpatico ...  \n",
       "4  impecable servicio mejor calidad sabor bollerí...  "
      ]
     },
     "execution_count": 12,
     "metadata": {},
     "output_type": "execute_result"
    }
   ],
   "source": [
    "df2.head()"
   ]
  },
  {
   "cell_type": "code",
   "execution_count": 13,
   "metadata": {},
   "outputs": [
    {
     "data": {
      "image/png": "[encoded data removed]",
      "text/plain": [
       "<PIL.Image.Image image mode=RGB size=400x200>"
      ]
     },
     "execution_count": 13,
     "metadata": {},
     "output_type": "execute_result"
    }
   ],
   "source": [
    "from wordcloud import WordCloud# Join the different processed titles together.\n",
    "long_string = ','.join(list(df2['text_processed'].values))# Create a WordCloud object\n",
    "wordcloud = WordCloud(background_color=\"white\", max_words=5000, contour_width=3, contour_color='steelblue')# Generate a word cloud\n",
    "wordcloud.generate(long_string)# Visualize the word cloud\n",
    "wordcloud.to_image()"
   ]
  },
  {
   "cell_type": "code",
   "execution_count": 14,
   "metadata": {},
   "outputs": [
    {
     "name": "stdout",
     "output_type": "stream",
     "text": [
      "['quieres', 'comer', 'abundante', 'florituras', 'lugar', 'acude', 'tiempo', 'menu', 'mediodia', 'llena']\n"
     ]
    },
    {
     "name": "stderr",
     "output_type": "stream",
     "text": [
      "[nltk_data] Downloading package stopwords to\n",
      "[nltk_data]     C:\\Users\\jilai\\AppData\\Roaming\\nltk_data...\n",
      "[nltk_data]   Package stopwords is already up-to-date!\n"
     ]
    }
   ],
   "source": [
    "import gensim\n",
    "from gensim.utils import simple_preprocess\n",
    "import nltk\n",
    "from nltk import pos_tag\n",
    "from nltk.tokenize import word_tokenize\n",
    "nltk.download('stopwords')\n",
    "from nltk.corpus import stopwords\n",
    "stop_words = stopwords.words('spanish')\n",
    "stop_words.extend([\"desde\", \"excelente\", \"siempre\", \"bien\", \"aunque\", \"solo\", \"si\", \"bueno\", \"así\", \"muy\", \"mejor\", \"buena\", \"gran\", \"puede\", \"puedo\", \"pueden\", \"puedes\"])\n",
    "\n",
    "def sent_to_words(sentences):\n",
    "    for sentence in sentences:\n",
    "        # deacc=True removes punctuations\n",
    "        yield(gensim.utils.simple_preprocess(str(sentence), deacc=True))\n",
    "        \n",
    "def remove_stopwords(texts):\n",
    "    return [[word for word in simple_preprocess(str(doc)) \n",
    "             if word not in stop_words] for doc in texts]\n",
    "    \n",
    "data = df2[\"text_processed\"].values.tolist()\n",
    "data_words = list(sent_to_words(data))# remove stop words\n",
    "data_words = remove_stopwords(data_words)\n",
    "print(data_words[:1][0][:30])"
   ]
  },
  {
   "cell_type": "code",
   "execution_count": 15,
   "metadata": {},
   "outputs": [
    {
     "name": "stdout",
     "output_type": "stream",
     "text": [
      "[(0, 1), (1, 1), (2, 1), (3, 1), (4, 1), (5, 1), (6, 1), (7, 1), (8, 1), (9, 1)]\n"
     ]
    }
   ],
   "source": [
    "import gensim.corpora as corpora# Create Dictionary\n",
    "id2word = corpora.Dictionary(data_words)# Create Corpus\n",
    "texts = data_words# Term Document Frequency\n",
    "corpus = [id2word.doc2bow(text) for text in texts]# View\n",
    "print(corpus[:1][0][:30])"
   ]
  },
  {
   "cell_type": "code",
   "execution_count": 16,
   "metadata": {},
   "outputs": [],
   "source": [
    "def flatten_comprehension(matrix):\n",
    "    return [item for row in matrix for item in row]"
   ]
  },
  {
   "cell_type": "code",
   "execution_count": 26,
   "metadata": {},
   "outputs": [
    {
     "data": {
      "text/plain": [
       "[('comida', 383),\n",
       " ('servicio', 255),\n",
       " ('calidad', 247),\n",
       " ('precio', 241),\n",
       " ('trato', 157),\n",
       " ('platos', 150),\n",
       " ('atencion', 138),\n",
       " ('sitio', 138),\n",
       " ('restaurante', 132),\n",
       " ('ambiente', 99),\n",
       " ('menu', 90),\n",
       " ('madrid', 89),\n",
       " ('lugar', 76),\n",
       " ('amigos', 72),\n",
       " ('carta', 71)]"
      ]
     },
     "execution_count": 26,
     "metadata": {},
     "output_type": "execute_result"
    }
   ],
   "source": [
    "from collections import Counter\n",
    "\n",
    "import spacy\n",
    "\n",
    "# Cargar el modelo de idioma en español\n",
    "nlp = spacy.load('es_core_news_sm')\n",
    "\n",
    "def es_adjetivo(palabra):\n",
    "    doc = nlp(palabra)\n",
    "    for token in doc:\n",
    "        if token.pos_ == 'ADJ':\n",
    "            return True\n",
    "    return False\n",
    "\n",
    "#frecuency of data words\n",
    "word_counting = flatten_comprehension(data_words)\n",
    "\n",
    "frecuency = Counter(word_counting)\n",
    "for word, freq in frecuency.copy().items():\n",
    "    if es_adjetivo(word):\n",
    "        del frecuency[word]\n",
    "frecuency.most_common(15)"
   ]
  },
  {
   "cell_type": "code",
   "execution_count": 7,
   "metadata": {},
   "outputs": [],
   "source": [
    "classifier = pipeline(\n",
    "    \"zero-shot-classification\",\n",
    "    model=\"Recognai/bert-base-spanish-wwm-cased-xnli\",\n",
    "    framework=\"pt\",\n",
    ")"
   ]
  },
  {
   "cell_type": "code",
   "execution_count": 8,
   "metadata": {},
   "outputs": [
    {
     "data": {
      "text/plain": [
       "{'sequence': 'quieres comer abundante  florituras  lugar  Acude tiempo men medioda  llena',\n",
       " 'labels': ['ambiente',\n",
       "  'ubicación',\n",
       "  'comida',\n",
       "  'precio',\n",
       "  'calidad',\n",
       "  'personal',\n",
       "  'servicio al cliente',\n",
       "  'bebida',\n",
       "  'limpieza'],\n",
       " 'scores': [0.6008378863334656,\n",
       "  0.3162613809108734,\n",
       "  0.25562068819999695,\n",
       "  0.1030738577246666,\n",
       "  0.0989302545785904,\n",
       "  0.04597143828868866,\n",
       "  0.026562552899122238,\n",
       "  0.008994144387543201,\n",
       "  0.008186652325093746]}"
      ]
     },
     "execution_count": 38,
     "metadata": {},
     "output_type": "execute_result"
    }
   ],
   "source": [
    "result = classifier(\n",
    "    \"quieres comer abundante  florituras  lugar  Acude tiempo men medioda  llena\",\n",
    "    candidate_labels=[\n",
    "        \"comida\",\n",
    "        \"servicio al cliente\",\n",
    "        \"ambiente\",\n",
    "        \"limpieza\",\n",
    "        \"precio\",\n",
    "        \"ubicación\",\n",
    "        \"bebida\",\n",
    "        \"personal\",\n",
    "        \"calidad\",\n",
    "    ],\n",
    "    hypothesis_template=\"Se habla sobre {} del restaurante.\",\n",
    "    multi_label=True,\n",
    ")\n",
    "result"
   ]
  }
 ],
 "metadata": {
  "kernelspec": {
   "display_name": "Python 3",
   "language": "python",
   "name": "python3"
  },
  "language_info": {
   "codemirror_mode": {
    "name": "ipython",
    "version": 3
   },
   "file_extension": ".py",
   "mimetype": "text/x-python",
   "name": "python",
   "nbconvert_exporter": "python",
   "pygments_lexer": "ipython3",
   "version": "3.10.7"
  }
 },
 "nbformat": 4,
 "nbformat_minor": 2
}
