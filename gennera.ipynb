{
 "cells": [
  {
   "cell_type": "code",
   "execution_count": 22,
   "metadata": {},
   "outputs": [],
   "source": [
    "import pandas as pd\n",
    "import numpy as np\n",
    "import torch\n",
    "from transformers import pipeline"
   ]
  },
  {
   "cell_type": "code",
   "execution_count": 23,
   "metadata": {},
   "outputs": [],
   "source": [
    "df = pd.read_pickle(\"reviews.pkl\")"
   ]
  },
  {
   "cell_type": "code",
   "execution_count": 24,
   "metadata": {},
   "outputs": [],
   "source": [
    "def preprocessing(df):\n",
    "    df.drop(\n",
    "        columns=[\n",
    "            \"images\",\n",
    "            \"language\",\n",
    "            \"url\",\n",
    "            \"userId\",\n",
    "            \"index\",\n",
    "            \"restaurantId\",\n",
    "            \"reviewId\",\n",
    "        ],\n",
    "        inplace=True,\n",
    "    )\n",
    "    df[\"date\"] = df[\"date\"].apply(lambda x: x.split()[::2])\n",
    "    mes = {\n",
    "        \"enero\": \"01\",\n",
    "        \"febrero\": \"02\",\n",
    "        \"marzo\": \"03\",\n",
    "        \"abril\": \"04\",\n",
    "        \"mayo\": \"05\",\n",
    "        \"junio\": \"06\",\n",
    "        \"julio\": \"07\",\n",
    "        \"agosto\": \"08\",\n",
    "        \"septiembre\": \"09\",\n",
    "        \"octubre\": \"10\",\n",
    "        \"noviembre\": \"11\",\n",
    "        \"diciembre\": \"12\",\n",
    "    }\n",
    "    df[\"mes\"] = df[\"date\"].apply(lambda x: mes[x[1]])\n",
    "    df[\"date\"] = df[[\"date\", \"mes\"]].apply(\n",
    "        lambda x: str(x[0][0]) + \"-\" + str(x[1]) + \"-\" + str(x[0][2]), axis=1\n",
    "    )\n",
    "    df.drop(columns=[\"mes\"], inplace=True)\n",
    "    df[\"date\"] = pd.to_datetime(df[\"date\"])\n",
    "    return df"
   ]
  },
  {
   "cell_type": "code",
   "execution_count": 25,
   "metadata": {},
   "outputs": [
    {
     "name": "stderr",
     "output_type": "stream",
     "text": [
      "C:\\Users\\jilai\\AppData\\Local\\Temp\\ipykernel_18640\\3951252518.py:34: UserWarning: Parsing dates in %d-%m-%Y format when dayfirst=False (the default) was specified. Pass `dayfirst=True` or specify a format to silence this warning.\n",
      "  df[\"date\"] = pd.to_datetime(df[\"date\"])\n"
     ]
    }
   ],
   "source": [
    "df = preprocessing(df)"
   ]
  },
  {
   "cell_type": "code",
   "execution_count": 26,
   "metadata": {},
   "outputs": [
    {
     "data": {
      "text/html": [
       "<div>\n",
       "<style scoped>\n",
       "    .dataframe tbody tr th:only-of-type {\n",
       "        vertical-align: middle;\n",
       "    }\n",
       "\n",
       "    .dataframe tbody tr th {\n",
       "        vertical-align: top;\n",
       "    }\n",
       "\n",
       "    .dataframe thead th {\n",
       "        text-align: right;\n",
       "    }\n",
       "</style>\n",
       "<table border=\"1\" class=\"dataframe\">\n",
       "  <thead>\n",
       "    <tr style=\"text-align: right;\">\n",
       "      <th></th>\n",
       "      <th>date</th>\n",
       "      <th>rating</th>\n",
       "      <th>text</th>\n",
       "      <th>title</th>\n",
       "    </tr>\n",
       "  </thead>\n",
       "  <tbody>\n",
       "    <tr>\n",
       "      <th>0</th>\n",
       "      <td>2017-04-26</td>\n",
       "      <td>30</td>\n",
       "      <td>Si quieres comer abundante, bien y sin floritu...</td>\n",
       "      <td>Comida casera muy casera</td>\n",
       "    </tr>\n",
       "    <tr>\n",
       "      <th>1</th>\n",
       "      <td>2015-08-17</td>\n",
       "      <td>40</td>\n",
       "      <td>cerveceria calsica muy cerquita de la plaza ma...</td>\n",
       "      <td>clasica cerveceria cons sabor autentico</td>\n",
       "    </tr>\n",
       "    <tr>\n",
       "      <th>2</th>\n",
       "      <td>2018-04-27</td>\n",
       "      <td>50</td>\n",
       "      <td>Una amiga que vive en alameda de Osuna juraba ...</td>\n",
       "      <td>Pasteles increíbles</td>\n",
       "    </tr>\n",
       "    <tr>\n",
       "      <th>3</th>\n",
       "      <td>2018-04-15</td>\n",
       "      <td>40</td>\n",
       "      <td>la bolleria genial, el cafe bueno, el personal...</td>\n",
       "      <td>una buena merienda</td>\n",
       "    </tr>\n",
       "    <tr>\n",
       "      <th>4</th>\n",
       "      <td>2017-12-31</td>\n",
       "      <td>50</td>\n",
       "      <td>Impecable servicio y la mejor calidad y sabor ...</td>\n",
       "      <td>Excelente</td>\n",
       "    </tr>\n",
       "  </tbody>\n",
       "</table>\n",
       "</div>"
      ],
      "text/plain": [
       "        date rating                                               text   \n",
       "0 2017-04-26     30  Si quieres comer abundante, bien y sin floritu...  \\\n",
       "1 2015-08-17     40  cerveceria calsica muy cerquita de la plaza ma...   \n",
       "2 2018-04-27     50  Una amiga que vive en alameda de Osuna juraba ...   \n",
       "3 2018-04-15     40  la bolleria genial, el cafe bueno, el personal...   \n",
       "4 2017-12-31     50  Impecable servicio y la mejor calidad y sabor ...   \n",
       "\n",
       "                                     title  \n",
       "0                 Comida casera muy casera  \n",
       "1  clasica cerveceria cons sabor autentico  \n",
       "2                      Pasteles increíbles  \n",
       "3                       una buena merienda  \n",
       "4                                Excelente  "
      ]
     },
     "execution_count": 26,
     "metadata": {},
     "output_type": "execute_result"
    }
   ],
   "source": [
    "df.head(5)"
   ]
  },
  {
   "cell_type": "code",
   "execution_count": 27,
   "metadata": {},
   "outputs": [
    {
     "name": "stderr",
     "output_type": "stream",
     "text": [
      "c:\\Users\\jilai\\AppData\\Local\\Programs\\Python\\Python310\\lib\\site-packages\\transformers\\pipelines\\text_classification.py:104: UserWarning: `return_all_scores` is now deprecated,  if want a similar functionality use `top_k=None` instead of `return_all_scores=True` or `top_k=1` instead of `return_all_scores=False`.\n",
      "  warnings.warn(\n"
     ]
    }
   ],
   "source": [
    "from transformers import pipeline\n",
    "\n",
    "distilled_student_sentiment_classifier = pipeline(\n",
    "    model=\"lxyuan/distilbert-base-multilingual-cased-sentiments-student\", \n",
    "    return_all_scores=True\n",
    ")"
   ]
  },
  {
   "cell_type": "code",
   "execution_count": 28,
   "metadata": {},
   "outputs": [],
   "source": [
    "def get_higher_sentiment_score(sentiment_scores):\n",
    "    max = [(scores[\"score\"], scores[\"label\"]) for scores in sentiment_scores[0]]\n",
    "    max.sort(reverse=True)\n",
    "    return max[0][1]\n"
   ]
  },
  {
   "cell_type": "code",
   "execution_count": 38,
   "metadata": {},
   "outputs": [],
   "source": [
    "df2 = df.copy().iloc[:1000]"
   ]
  },
  {
   "cell_type": "code",
   "execution_count": 39,
   "metadata": {},
   "outputs": [],
   "source": [
    "df2[\"sentiment\"] = df2[\"text\"].apply(lambda x: get_higher_sentiment_score(distilled_student_sentiment_classifier(x)))"
   ]
  },
  {
   "cell_type": "code",
   "execution_count": 41,
   "metadata": {},
   "outputs": [],
   "source": [
    "df2.to_pickle(\"reviews_with_sentiment.pkl\")"
   ]
  },
  {
   "cell_type": "code",
   "execution_count": 7,
   "metadata": {},
   "outputs": [],
   "source": [
    "classifier = pipeline(\n",
    "    \"zero-shot-classification\",\n",
    "    model=\"Recognai/bert-base-spanish-wwm-cased-xnli\",\n",
    "    framework=\"pt\",\n",
    ")"
   ]
  },
  {
   "cell_type": "code",
   "execution_count": 8,
   "metadata": {},
   "outputs": [
    {
     "data": {
      "text/plain": [
       "{'sequence': 'Las mejores tartas, pasteles, bolleria, pan de la zona. El de la zona de Bareco genial para tomar un café',\n",
       " 'labels': ['calidad',\n",
       "  'bebida',\n",
       "  'comida',\n",
       "  'servicio al cliente',\n",
       "  'ubicación',\n",
       "  'ambiente',\n",
       "  'precio',\n",
       "  'personal',\n",
       "  'limpieza'],\n",
       " 'scores': [0.9930290579795837,\n",
       "  0.9789515137672424,\n",
       "  0.9748647809028625,\n",
       "  0.4981488883495331,\n",
       "  0.36693307757377625,\n",
       "  0.3639256954193115,\n",
       "  0.2866499125957489,\n",
       "  0.042407143861055374,\n",
       "  0.026894304901361465]}"
      ]
     },
     "execution_count": 8,
     "metadata": {},
     "output_type": "execute_result"
    }
   ],
   "source": [
    "result = classifier(\n",
    "    df[\"text\"][6],\n",
    "    candidate_labels=[\n",
    "        \"comida\",\n",
    "        \"servicio al cliente\",\n",
    "        \"ambiente\",\n",
    "        \"limpieza\",\n",
    "        \"precio\",\n",
    "        \"ubicación\",\n",
    "        \"bebida\",\n",
    "        \"personal\",\n",
    "        \"calidad\",\n",
    "    ],\n",
    "    hypothesis_template=\"Se habla sobre {} del restaurante.\",\n",
    "    multi_label=True,\n",
    ")\n",
    "result"
   ]
  }
 ],
 "metadata": {
  "kernelspec": {
   "display_name": "Python 3",
   "language": "python",
   "name": "python3"
  },
  "language_info": {
   "codemirror_mode": {
    "name": "ipython",
    "version": 3
   },
   "file_extension": ".py",
   "mimetype": "text/x-python",
   "name": "python",
   "nbconvert_exporter": "python",
   "pygments_lexer": "ipython3",
   "version": "3.10.7"
  }
 },
 "nbformat": 4,
 "nbformat_minor": 2
}
